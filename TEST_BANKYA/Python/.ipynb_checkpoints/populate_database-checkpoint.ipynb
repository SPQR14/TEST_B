{
 "cells": [
  {
   "cell_type": "code",
   "execution_count": 24,
   "metadata": {},
   "outputs": [],
   "source": [
    "from sqlalchemy import create_engine\n",
    "import names\n",
    "import yaml\n",
    "from random import randint\n",
    "import datetime"
   ]
  },
  {
   "cell_type": "code",
   "execution_count": 2,
   "metadata": {},
   "outputs": [],
   "source": [
    "with open(\"db.yml\", \"r\") as ymlfile:\n",
    "    cfg = yaml.load(ymlfile, Loader=yaml.FullLoader)"
   ]
  },
  {
   "cell_type": "code",
   "execution_count": 3,
   "metadata": {},
   "outputs": [],
   "source": [
    "user = cfg['mysql']['user']\n",
    "pss = cfg['mysql']['passwd']\n",
    "host = cfg['mysql']['host']\n",
    "port = cfg['mysql']['port']\n",
    "db = cfg['mysql']['db']"
   ]
  },
  {
   "cell_type": "code",
   "execution_count": 4,
   "metadata": {},
   "outputs": [],
   "source": [
    "en = create_engine(f'mysql+pymysql://{user}:{pss}@{host}:{port}/{db}')"
   ]
  },
  {
   "cell_type": "code",
   "execution_count": 125,
   "metadata": {},
   "outputs": [],
   "source": [
    "def fecha():\n",
    "    año = str(randint(1980, 2002))\n",
    "    mes = str(randint(1,12))\n",
    "    if mes == \"2\":\n",
    "        dia = str(randint(1,28))\n",
    "    else:\n",
    "        dia = str(randint(1,30))\n",
    "    return año + '-' + mes + '-' + dia"
   ]
  },
  {
   "cell_type": "code",
   "execution_count": 126,
   "metadata": {},
   "outputs": [],
   "source": [
    "def calcular_edad(f_nac):\n",
    "    hoy = date.today()\n",
    "    try:\n",
    "        cumple = f_nac.replace(year=hoy.year)\n",
    "    except ValueError:\n",
    "        cumple = f_nac.replace(year=hoy.year, day=f_nac.day - 1) \n",
    "    if cumple > hoy:\n",
    "        return hoy.year - f_nac.year - 1\n",
    "    else:\n",
    "        return hoy.year - f_nac.year"
   ]
  },
  {
   "cell_type": "code",
   "execution_count": 127,
   "metadata": {},
   "outputs": [],
   "source": [
    "def direccion():\n",
    "    calles = ['av. del Parque', 'Pirámide de la Luna', 'Retorno 48', 'Calzad de la Virgen', \"Retorno 1\"]\n",
    "    return calles[randint(0,4)] + ' ' +'#' + str(randint(1,100))"
   ]
  },
  {
   "cell_type": "code",
   "execution_count": 128,
   "metadata": {},
   "outputs": [],
   "source": [
    "def municipio():\n",
    "    muns = ['Coyoacán', 'Alvaro Obregón', 'Azcapotzalco', 'Miguel Hidalgo', 'Tlalpan', 'Benito Juárez']\n",
    "    return muns[randint(0, 5)]"
   ]
  },
  {
   "cell_type": "code",
   "execution_count": 129,
   "metadata": {},
   "outputs": [],
   "source": [
    "def cod_postal():\n",
    "    cps = ['04460', '14506', '90210', '15023', '04571', '23429', '12345']\n",
    "    return cps[randint(0, 6)]"
   ]
  },
  {
   "cell_type": "code",
   "execution_count": 130,
   "metadata": {},
   "outputs": [],
   "source": [
    "for i in range(100):\n",
    "    nombre = names.get_first_name()\n",
    "    apellidos = names.get_last_name() + ' ' + names.get_last_name()\n",
    "    f_nac = fecha()\n",
    "    dia, mes, anio = [int(v) for v in f_nac.split(\"-\")]\n",
    "    edad = calcular_edad(date(dia, mes, anio))\n",
    "    direc = direccion()\n",
    "    cp = cod_postal()\n",
    "    mun = municipio()\n",
    "    estado = \"CDMX\"\n",
    "    tel = '55' + str(randint(10000000, 99999999))\n",
    "    cad = f'INSERT INTO CLIENTES VALUES ({i+1},\"{nombre}\",\"{apellidos}\",\\'{f_nac}\\',{edad},\"{direc}\",\"{cp}\",\"{mun}\",\"{estado}\",\"{tel}\")'\n",
    "    conn = en.connect()\n",
    "    conn.execute(cad)\n",
    "    conn.close()"
   ]
  },
  {
   "cell_type": "code",
   "execution_count": null,
   "metadata": {},
   "outputs": [],
   "source": [
    "CREATE TABLE PRESTAMOS(\n",
    "\tCONTRACTID INTEGER NOT NULL,\n",
    "    CUSTOMERID INTEGER NOT NULL,\n",
    "    FECHA_INI DATE NOT NULL,\n",
    "    FECHA_FIN DATE NOT NULL,\n",
    "    MONTO_TOTAL DECIMAL(8,2) NOT NULL,\n",
    "    FREQ_PAGOS SMALLINT NOT NULL,\n",
    "    MONTO_PAGOS DECIMAL(8,2)\n",
    "\t);\n"
   ]
  },
  {
   "cell_type": "code",
   "execution_count": 32,
   "metadata": {},
   "outputs": [],
   "source": [
    "import dateutil.relativedelta"
   ]
  },
  {
   "cell_type": "code",
   "execution_count": 131,
   "metadata": {},
   "outputs": [],
   "source": [
    "plazos = [1, 3, 6, 9, 12, 15, 18, 20, 24, 36, 48, 60, 72]\n",
    "f = [15, 30]\n",
    "for i in range(150):\n",
    "    p = randint(0,11)\n",
    "    f_1 = randint(0,1)\n",
    "    cliente = randint(1,50)\n",
    "    monto_inicial = randint(1000, 300000)\n",
    "    fecha_i = str(date.today())\n",
    "    fecha_aux = datetime.datetime.strptime(fecha_i, \"%Y-%m-%d\")\n",
    "    fecha_f = str(fecha_aux + dateutil.relativedelta.relativedelta(months=plazos[p]))[:10]\n",
    "    monto_total = monto_inicial\n",
    "    freq = f[f_1]\n",
    "    monto_pagos = monto_total/plazos[p]\n",
    "    cad = f'INSERT INTO PRESTAMOS VALUES ({i+1},{cliente},\\'{fecha_i}\\', \\'{fecha_f}\\' ,{monto_total},{freq},{monto_pagos})'\n",
    "    conn = en.connect()\n",
    "    conn.execute(cad)\n",
    "    conn.close()"
   ]
  },
  {
   "cell_type": "code",
   "execution_count": 132,
   "metadata": {},
   "outputs": [],
   "source": [
    "import pandas as pd"
   ]
  },
  {
   "cell_type": "code",
   "execution_count": 133,
   "metadata": {},
   "outputs": [],
   "source": [
    "df = pd.read_csv('..\\\\prestamos.csv', sep = ',', encoding = 'utf8')"
   ]
  },
  {
   "cell_type": "code",
   "execution_count": 134,
   "metadata": {},
   "outputs": [
    {
     "data": {
      "text/html": [
       "<div>\n",
       "<style scoped>\n",
       "    .dataframe tbody tr th:only-of-type {\n",
       "        vertical-align: middle;\n",
       "    }\n",
       "\n",
       "    .dataframe tbody tr th {\n",
       "        vertical-align: top;\n",
       "    }\n",
       "\n",
       "    .dataframe thead th {\n",
       "        text-align: right;\n",
       "    }\n",
       "</style>\n",
       "<table border=\"1\" class=\"dataframe\">\n",
       "  <thead>\n",
       "    <tr style=\"text-align: right;\">\n",
       "      <th></th>\n",
       "      <th>CONTRACTID</th>\n",
       "      <th>CUSTOMERID</th>\n",
       "      <th>FECHA_INI</th>\n",
       "      <th>FECHA_FIN</th>\n",
       "      <th>MONTO_TOTAL</th>\n",
       "      <th>FREQ_PAGOS</th>\n",
       "      <th>MONTO_PAGOS</th>\n",
       "    </tr>\n",
       "  </thead>\n",
       "  <tbody>\n",
       "    <tr>\n",
       "      <th>0</th>\n",
       "      <td>1</td>\n",
       "      <td>21</td>\n",
       "      <td>13/09/2020</td>\n",
       "      <td>13/05/2022</td>\n",
       "      <td>123910</td>\n",
       "      <td>30</td>\n",
       "      <td>6195.50</td>\n",
       "    </tr>\n",
       "    <tr>\n",
       "      <th>1</th>\n",
       "      <td>2</td>\n",
       "      <td>43</td>\n",
       "      <td>13/09/2020</td>\n",
       "      <td>13/09/2024</td>\n",
       "      <td>30074</td>\n",
       "      <td>30</td>\n",
       "      <td>626.54</td>\n",
       "    </tr>\n",
       "    <tr>\n",
       "      <th>2</th>\n",
       "      <td>3</td>\n",
       "      <td>31</td>\n",
       "      <td>13/09/2020</td>\n",
       "      <td>13/09/2024</td>\n",
       "      <td>146714</td>\n",
       "      <td>30</td>\n",
       "      <td>3056.54</td>\n",
       "    </tr>\n",
       "    <tr>\n",
       "      <th>3</th>\n",
       "      <td>4</td>\n",
       "      <td>2</td>\n",
       "      <td>13/09/2020</td>\n",
       "      <td>13/10/2020</td>\n",
       "      <td>47609</td>\n",
       "      <td>15</td>\n",
       "      <td>47609.00</td>\n",
       "    </tr>\n",
       "    <tr>\n",
       "      <th>4</th>\n",
       "      <td>5</td>\n",
       "      <td>35</td>\n",
       "      <td>13/09/2020</td>\n",
       "      <td>13/05/2022</td>\n",
       "      <td>226255</td>\n",
       "      <td>30</td>\n",
       "      <td>11312.75</td>\n",
       "    </tr>\n",
       "  </tbody>\n",
       "</table>\n",
       "</div>"
      ],
      "text/plain": [
       "   CONTRACTID  CUSTOMERID   FECHA_INI   FECHA_FIN  MONTO_TOTAL  FREQ_PAGOS  \\\n",
       "0           1          21  13/09/2020  13/05/2022       123910          30   \n",
       "1           2          43  13/09/2020  13/09/2024        30074          30   \n",
       "2           3          31  13/09/2020  13/09/2024       146714          30   \n",
       "3           4           2  13/09/2020  13/10/2020        47609          15   \n",
       "4           5          35  13/09/2020  13/05/2022       226255          30   \n",
       "\n",
       "   MONTO_PAGOS  \n",
       "0      6195.50  \n",
       "1       626.54  \n",
       "2      3056.54  \n",
       "3     47609.00  \n",
       "4     11312.75  "
      ]
     },
     "execution_count": 134,
     "metadata": {},
     "output_type": "execute_result"
    }
   ],
   "source": [
    "df.head()"
   ]
  },
  {
   "cell_type": "code",
   "execution_count": 135,
   "metadata": {},
   "outputs": [
    {
     "data": {
      "text/plain": [
       "(139, 7)"
      ]
     },
     "execution_count": 135,
     "metadata": {},
     "output_type": "execute_result"
    }
   ],
   "source": [
    "df.shape"
   ]
  },
  {
   "cell_type": "code",
   "execution_count": 136,
   "metadata": {},
   "outputs": [
    {
     "data": {
      "text/plain": [
       "CONTRACTID       int64\n",
       "CUSTOMERID       int64\n",
       "FECHA_INI       object\n",
       "FECHA_FIN       object\n",
       "MONTO_TOTAL      int64\n",
       "FREQ_PAGOS       int64\n",
       "MONTO_PAGOS    float64\n",
       "dtype: object"
      ]
     },
     "execution_count": 136,
     "metadata": {},
     "output_type": "execute_result"
    }
   ],
   "source": [
    "df.dtypes"
   ]
  },
  {
   "cell_type": "code",
   "execution_count": 138,
   "metadata": {},
   "outputs": [],
   "source": [
    "for i , fila in df.iterrows():\n",
    "    f = int(df['FREQ_PAGOS'].iloc[i])\n",
    "    m = df['MONTO_PAGOS'].iloc[i]\n",
    "    c = int(df['CONTRACTID'].iloc[i])\n",
    "    fecha = df['FECHA_INI'].iloc[i]\n",
    "    fecha_aux = fecha.split('/')\n",
    "    dia = fecha_aux[0]\n",
    "    mes = fecha_aux[1]\n",
    "    anio = fecha_aux[2]\n",
    "    fecha_aux_1 =  str(anio+ '-' +mes+ '-' +dia)\n",
    "    fecha_aux = datetime.datetime.strptime(fecha_aux_1, \"%Y-%m-%d\")\n",
    "    fecha_f = str(fecha_aux + dateutil.relativedelta.relativedelta(days=f))[:10]\n",
    "    cad = f'INSERT INTO PAGOS VALUES({i+1},{c},\\'{fecha_f}\\',{m}, {m},\\'{fecha_f}\\')'\n",
    "    conn = en.connect()\n",
    "    conn.execute(cad)\n",
    "    conn.close()"
   ]
  },
  {
   "cell_type": "code",
   "execution_count": null,
   "metadata": {},
   "outputs": [],
   "source": []
  },
  {
   "cell_type": "code",
   "execution_count": null,
   "metadata": {},
   "outputs": [],
   "source": []
  },
  {
   "cell_type": "code",
   "execution_count": null,
   "metadata": {},
   "outputs": [],
   "source": []
  }
 ],
 "metadata": {
  "kernelspec": {
   "display_name": "VirtualPythonPrincipal",
   "language": "python",
   "name": "virtualpythonprincipal"
  },
  "language_info": {
   "codemirror_mode": {
    "name": "ipython",
    "version": 3
   },
   "file_extension": ".py",
   "mimetype": "text/x-python",
   "name": "python",
   "nbconvert_exporter": "python",
   "pygments_lexer": "ipython3",
   "version": "3.8.2"
  }
 },
 "nbformat": 4,
 "nbformat_minor": 4
}
